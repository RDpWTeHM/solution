{
 "cells": [
  {
   "cell_type": "markdown",
   "metadata": {},
   "source": [
    "# 自动播放新闻联播"
   ]
  },
  {
   "cell_type": "code",
   "execution_count": 1,
   "metadata": {},
   "outputs": [],
   "source": [
    "import os\n",
    "from time import sleep"
   ]
  },
  {
   "cell_type": "code",
   "execution_count": 2,
   "metadata": {},
   "outputs": [],
   "source": [
    "from selenium import webdriver\n"
   ]
  },
  {
   "cell_type": "markdown",
   "metadata": {},
   "source": [
    "## 配置 flash player 插件"
   ]
  },
  {
   "cell_type": "code",
   "execution_count": 3,
   "metadata": {},
   "outputs": [],
   "source": [
    "from selenium.webdriver.chrome.options import Options\n",
    "\n",
    "cr_options = Options()\n",
    "cr_options.headless = False\n",
    "\n",
    "## solution out-of-date\n",
    "# prefs = {\n",
    "#     \"profile.default_content_setting_values.plugins\": 1,\n",
    "#     \"profile.content_settings.plugin_whitelist.adobe-flash-player\": 1,\n",
    "#     \"profile.content_settings.exceptions.plugins.*,*.per_resource.adobe-flash-player\": 1,\n",
    "#     \"PluginsAllowedForUrls\": [\n",
    "#         \"http://tv.cctv.com/2020/03/30/VIDEZ1dw3QAqvk3f94HmjXEb200330.shtml\",\n",
    "#     ]\n",
    "# }\n",
    "\n",
    "# cr_options.add_experimental_option(\"prefs\",prefs)\n",
    "cr_options.add_argument('--allow-outdated-plugins')\n",
    "\n",
    "_home = os.getenv(\"HOME\")\n",
    "flash_player_path = f\"{_home}/.config/google-chrome/PepperFlash/32.0.0.344/libpepflashplayer.so\"\n",
    "cr_options.add_argument('--ppapi-flash-version=32.0.0.344')\n",
    "cr_options.add_argument('--ppapi-flash-path=' + flash_player_path)"
   ]
  },
  {
   "cell_type": "code",
   "execution_count": 4,
   "metadata": {},
   "outputs": [],
   "source": [
    "browser = webdriver.Chrome(\n",
    "    executable_path=\"/usr/bin/chromedriver\",\n",
    "    options=cr_options, )"
   ]
  },
  {
   "cell_type": "markdown",
   "metadata": {},
   "source": [
    "## 启用 flash"
   ]
  },
  {
   "cell_type": "code",
   "execution_count": 5,
   "metadata": {},
   "outputs": [],
   "source": [
    "from selenium.webdriver.common.keys import Keys\n",
    "from selenium.webdriver.common.action_chains import ActionChains"
   ]
  },
  {
   "cell_type": "code",
   "execution_count": 6,
   "metadata": {},
   "outputs": [],
   "source": [
    "browser.get(\"chrome://settings/content/flash\")\n",
    "\n",
    "actions = ActionChains(browser)\n",
    "actions = actions.send_keys(Keys.TAB * 19)\n",
    "actions = actions.send_keys(Keys.SPACE)\n",
    "# actions = actions.send_keys(\"a\")\n",
    "# actions = actions.send_keys(Keys.ENTER)\n",
    "actions.perform()"
   ]
  },
  {
   "cell_type": "code",
   "execution_count": null,
   "metadata": {},
   "outputs": [],
   "source": []
  },
  {
   "cell_type": "markdown",
   "metadata": {},
   "source": [
    "## 最新的新闻 30 分（昨晚 19 点）"
   ]
  },
  {
   "cell_type": "markdown",
   "metadata": {},
   "source": [
    "### 百度搜索关键词“新闻联播”"
   ]
  },
  {
   "cell_type": "code",
   "execution_count": 7,
   "metadata": {},
   "outputs": [],
   "source": [
    "browser.get(\"https://www.baidu.com/s?ie=utf-8&rsv_bp=1&ch=&bar=&wd={}\".format(\"新闻联播\"))"
   ]
  },
  {
   "cell_type": "code",
   "execution_count": 8,
   "metadata": {},
   "outputs": [],
   "source": [
    "if False:\n",
    "    elem = browser.find_element_by_xpath('//div[@class=\"c-gap-top\"]')\n",
    "    sel_png = elem.screenshot_as_png\n",
    "    img_path = \"/tmp/selenium-dbg.png\"\n",
    "    with open(img_path, \"wb\") as fp:\n",
    "        fp.write(sel_png)\n",
    "\n",
    "    os.system(f\"xdg-open {img_path}\")"
   ]
  },
  {
   "cell_type": "markdown",
   "metadata": {},
   "source": [
    "### 获取昨日的日期"
   ]
  },
  {
   "cell_type": "code",
   "execution_count": 9,
   "metadata": {},
   "outputs": [],
   "source": [
    "import datetime as dt\n",
    "from datetime import datetime"
   ]
  },
  {
   "cell_type": "code",
   "execution_count": 10,
   "metadata": {},
   "outputs": [],
   "source": [
    "_n = datetime.now()"
   ]
  },
  {
   "cell_type": "code",
   "execution_count": 11,
   "metadata": {},
   "outputs": [
    {
     "name": "stdout",
     "output_type": "stream",
     "text": [
      "20200330\n"
     ]
    }
   ],
   "source": [
    "one_day = dt.timedelta(days=1)\n",
    "yesterday = _n - one_day\n",
    "print(yesterday.strftime(\"%Y%m%d\"))\n",
    "_s = yesterday.strftime(\"%Y%m%d\")"
   ]
  },
  {
   "cell_type": "markdown",
   "metadata": {},
   "source": [
    "### 找到最新的播放链接"
   ]
  },
  {
   "cell_type": "code",
   "execution_count": 12,
   "metadata": {},
   "outputs": [],
   "source": [
    "cctv_url = \"\""
   ]
  },
  {
   "cell_type": "code",
   "execution_count": 13,
   "metadata": {},
   "outputs": [
    {
     "name": "stdout",
     "output_type": "stream",
     "text": [
      "<div class=\"dis-relative\" data-a-7701177d=\"\"><span class=\"tab-tvshow-link-newest dis-absolute\" data-a-7701177d=\"\">最新</span><a href=\"http://www.baidu.com/link?url=zjrgvWDhZEvWcFtKgt1pyHXD5JhD65lnDAS-V_Q55hhx0Vl6PIbUEUA6w3WsvhbP8N7MZ0wT5Q-FQIURjqFoC3x6KzQ5e4ky_u1r_ND3LdW\" target=\"_blank\" data-visited=\"off\" class=\"c-blocka\" data-a-7701177d=\"\" data-a-339f6d90=\"\"><div class=\"dis-relative\" data-a-7701177d=\"\"><img src=\"https://dss2.baidu.com/6ONYsjip0QIZ8tyhnq/it/u=3325279217,381738190&amp;fm=58&amp;app=83&amp;f=JPEG?w=300&amp;h=200&amp;s=AF01A4446820B64D56E05C810300E08E\" class=\"c-img c-img6 tab-tvshow-link-img\" data-a-7701177d=\"\"><p class=\"tabs-tvshow-info dis-line-block dis-absolute\" data-a-7701177d=\"\"><i class=\"c-icon c-icon-play-black c-gap-left-small c-gap-right op-vd-variety-play\" data-a-7701177d=\"\"></i><span data-a-7701177d=\"\">2020-03-31</span></p></div></a><a href=\"http://www.baidu.com/link?url=zjrgvWDhZEvWcFtKgt1pyHXD5JhD65lnDAS-V_Q55hhx0Vl6PIbUEUA6w3WsvhbP8N7MZ0wT5Q-FQIURjqFoC3x6KzQ5e4ky_u1r_ND3LdW\" target=\"_blank\" data-visited=\"off\" class=\"c-gap-top-small c-gap-bottom-small tvideo-clamp-2 dis-overflow-none text-center c-blocka\" data-a-7701177d=\"\" data-a-339f6d90=\"\">20200331</a></div>\n",
      "<div class=\"dis-relative\" data-a-7701177d=\"\"><!----><a href=\"http://www.baidu.com/link?url=zjrgvWDhZEvWcFtKgt1pyHXD5JhD65lnDAS-V_Q55hfQMu9HIspUc3djDgYdynXIZYiBp_ljlSr-DRT1pR5cimffRaZrRqPwGtwZ8CH8Ibe\" target=\"_blank\" data-visited=\"off\" class=\"c-blocka\" data-a-7701177d=\"\" data-a-339f6d90=\"\"><div class=\"dis-relative\" data-a-7701177d=\"\"><img src=\"https://dss2.baidu.com/6ONYsjip0QIZ8tyhnq/it/u=3415199564,1110820159&amp;fm=58&amp;app=83&amp;f=JPEG?w=300&amp;h=200&amp;s=61A820F456D34A6A000BAE6003008078\" class=\"c-img c-img6 tab-tvshow-link-img\" data-a-7701177d=\"\"><p class=\"tabs-tvshow-info dis-line-block dis-absolute\" data-a-7701177d=\"\"><i class=\"c-icon c-icon-play-black c-gap-left-small c-gap-right op-vd-variety-play\" data-a-7701177d=\"\"></i><span data-a-7701177d=\"\">2020-03-30</span></p></div></a><a href=\"http://www.baidu.com/link?url=zjrgvWDhZEvWcFtKgt1pyHXD5JhD65lnDAS-V_Q55hfQMu9HIspUc3djDgYdynXIZYiBp_ljlSr-DRT1pR5cimffRaZrRqPwGtwZ8CH8Ibe\" target=\"_blank\" data-visited=\"off\" class=\"c-gap-top-small c-gap-bottom-small tvideo-clamp-2 dis-overflow-none text-center c-blocka\" data-a-7701177d=\"\" data-a-339f6d90=\"\">20200330</a></div>\n"
     ]
    }
   ],
   "source": [
    "i = 1\n",
    "while True:\n",
    "    try:\n",
    "        elem = browser.find_element_by_xpath(\n",
    "            f'//div[@class=\"c-gap-top\"]//*//div[@class=\"tab-tvshow-span c-span6\"][{i}]'\n",
    "        )\n",
    "    except Exception as err:\n",
    "        print(\"{!r}\".format(err))\n",
    "        break\n",
    "    else:\n",
    "        #print(elem.get_attribute('innerHTML'))\n",
    "        if _s in elem.get_attribute(\"innerHTML\"):\n",
    "            elem.click()\n",
    "            break\n",
    "        else:\n",
    "            i += 1"
   ]
  },
  {
   "cell_type": "code",
   "execution_count": 14,
   "metadata": {},
   "outputs": [],
   "source": [
    "# cctv_url = \"http://tv.cctv.com/2020/03/30/VIDEZ1dw3QAqvk3f94HmjXEb200330.shtml\""
   ]
  },
  {
   "cell_type": "code",
   "execution_count": 15,
   "metadata": {},
   "outputs": [
    {
     "name": "stderr",
     "output_type": "stream",
     "text": [
      "/home/josephlin/.virtualenvs/fuuucknetease/lib/python3.6/site-packages/ipykernel_launcher.py:1: DeprecationWarning: use driver.switch_to.window instead\n",
      "  \"\"\"Entry point for launching an IPython kernel.\n"
     ]
    }
   ],
   "source": [
    "browser.switch_to_window(browser.window_handles[1])"
   ]
  },
  {
   "cell_type": "code",
   "execution_count": 16,
   "metadata": {},
   "outputs": [
    {
     "name": "stdout",
     "output_type": "stream",
     "text": [
      "[DEBUG] http://tv.cctv.com/2020/03/30/VIDEZ1dw3QAqvk3f94HmjXEb200330.shtml\n"
     ]
    }
   ],
   "source": [
    "cctv_url = browser.current_url\n",
    "print(f\"[DEBUG] {cctv_url}\")"
   ]
  },
  {
   "cell_type": "code",
   "execution_count": 17,
   "metadata": {},
   "outputs": [
    {
     "name": "stderr",
     "output_type": "stream",
     "text": [
      "/home/josephlin/.virtualenvs/fuuucknetease/lib/python3.6/site-packages/ipykernel_launcher.py:2: DeprecationWarning: use driver.switch_to.window instead\n",
      "  \n"
     ]
    }
   ],
   "source": [
    "browser.close()\n",
    "browser.switch_to_window(browser.window_handles[0])"
   ]
  },
  {
   "cell_type": "markdown",
   "metadata": {},
   "source": [
    "## 对播放链接允许 flash"
   ]
  },
  {
   "cell_type": "code",
   "execution_count": 18,
   "metadata": {},
   "outputs": [],
   "source": [
    "browser.get(\"chrome://settings/content/siteDetails?site=\" + cctv_url)\n",
    "\n",
    "actions = ActionChains(browser)\n",
    "actions = actions.send_keys(Keys.TAB * 21)\n",
    "actions = actions.send_keys(Keys.SPACE)\n",
    "actions = actions.send_keys(\"a\")\n",
    "actions = actions.send_keys(Keys.ENTER)\n",
    "\n",
    "actions = actions.send_keys(Keys.TAB)\n",
    "actions = actions.send_keys(Keys.SPACE)\n",
    "actions = actions.send_keys(\"a\")\n",
    "actions = actions.send_keys(Keys.ENTER)\n",
    "\n",
    "actions = actions.send_keys(Keys.TAB)\n",
    "actions = actions.send_keys(Keys.SPACE)\n",
    "actions = actions.send_keys(\"a\")\n",
    "actions = actions.send_keys(Keys.ENTER)\n",
    "\n",
    "actions.perform()\n",
    "# sleep(5)"
   ]
  },
  {
   "cell_type": "code",
   "execution_count": null,
   "metadata": {},
   "outputs": [],
   "source": []
  },
  {
   "cell_type": "code",
   "execution_count": 19,
   "metadata": {},
   "outputs": [],
   "source": [
    "## this solution is not good enough\n",
    "if False:\n",
    "    browser.get(\"chrome://settings/content/siteDetails?site=\" + cctv_url)\n",
    "    from selenium.webdriver.common.by import By\n",
    "    from selenium.webdriver.support.ui import Select\n",
    "\n",
    "    def expand_root_element(driver, element):\n",
    "        return driver.execute_script(\"return arguments[0].shadowRoot\", element)\n",
    "\n",
    "    root1 = browser.find_element(By.TAG_NAME, \"settings-ui\")\n",
    "    shadow_root1 = expand_root_element(browser, root1)\n",
    "    root2 = shadow_root1.find_element(By.ID, \"container\")\n",
    "    root3 = root2.find_element(By.ID, \"main\")\n",
    "\n",
    "    shadow_root3 = expand_root_element(browser, root3)\n",
    "    # shadow_root3 = expand_root_element(browser, root3)\n",
    "    root4 = shadow_root3.find_element(By.CLASS_NAME, \"showing-subpage\")\n",
    "    shadow_root4 = expand_root_element(browser, root4)\n",
    "    root5 = shadow_root4.find_element(By.ID, \"advancedPage\")\n",
    "    root6 = root5.find_element(By.TAG_NAME, \"settings-privacy-page\")\n",
    "    shadow_root6 = expand_root_element(browser, root6)\n",
    "    root7 = shadow_root6.find_element(By.ID, \"pages\")\n",
    "    root8 = root7.find_element(By.TAG_NAME, \"settings-subpage\")\n",
    "    root9 = root8.find_element(By.TAG_NAME, \"site-details\")\n",
    "    shadow_root9 = expand_root_element(browser, root9)\n",
    "    root10 = shadow_root9.find_element(By.ID, \"plugins\")\n",
    "    shadow_root10 = expand_root_element(browser, root10)\n",
    "    root11 = shadow_root10.find_element(By.ID, \"permission\")\n",
    "    Select(root11).select_by_value(\"allow\")"
   ]
  },
  {
   "cell_type": "code",
   "execution_count": null,
   "metadata": {},
   "outputs": [],
   "source": []
  },
  {
   "cell_type": "markdown",
   "metadata": {},
   "source": [
    "## Finally - Play It"
   ]
  },
  {
   "cell_type": "code",
   "execution_count": 20,
   "metadata": {},
   "outputs": [],
   "source": [
    "browser.get(cctv_url)"
   ]
  },
  {
   "cell_type": "code",
   "execution_count": null,
   "metadata": {},
   "outputs": [],
   "source": []
  },
  {
   "cell_type": "code",
   "execution_count": null,
   "metadata": {},
   "outputs": [],
   "source": []
  },
  {
   "cell_type": "code",
   "execution_count": null,
   "metadata": {},
   "outputs": [],
   "source": []
  },
  {
   "cell_type": "code",
   "execution_count": 21,
   "metadata": {},
   "outputs": [
    {
     "ename": "Exception",
     "evalue": "stop here",
     "output_type": "error",
     "traceback": [
      "\u001b[0;31m---------------------------------------------------------------------------\u001b[0m",
      "\u001b[0;31mException\u001b[0m                                 Traceback (most recent call last)",
      "\u001b[0;32m<ipython-input-21-3799461a9b8d>\u001b[0m in \u001b[0;36m<module>\u001b[0;34m\u001b[0m\n\u001b[0;32m----> 1\u001b[0;31m \u001b[0;32mraise\u001b[0m \u001b[0mException\u001b[0m\u001b[0;34m(\u001b[0m\u001b[0;34m\"stop here\"\u001b[0m\u001b[0;34m)\u001b[0m\u001b[0;34m\u001b[0m\u001b[0;34m\u001b[0m\u001b[0m\n\u001b[0m",
      "\u001b[0;31mException\u001b[0m: stop here"
     ]
    }
   ],
   "source": [
    "raise Exception(\"stop here\")"
   ]
  },
  {
   "cell_type": "code",
   "execution_count": null,
   "metadata": {},
   "outputs": [],
   "source": []
  },
  {
   "cell_type": "code",
   "execution_count": 22,
   "metadata": {},
   "outputs": [],
   "source": [
    "browser.quit()"
   ]
  },
  {
   "cell_type": "code",
   "execution_count": null,
   "metadata": {},
   "outputs": [],
   "source": [
    "_home = os.getenv(\"HOME\")\n",
    "print(_home)"
   ]
  },
  {
   "cell_type": "code",
   "execution_count": null,
   "metadata": {},
   "outputs": [],
   "source": []
  },
  {
   "cell_type": "code",
   "execution_count": null,
   "metadata": {},
   "outputs": [],
   "source": [
    "browser.switch_to_window(browser.window_handles[1])"
   ]
  },
  {
   "cell_type": "code",
   "execution_count": null,
   "metadata": {},
   "outputs": [],
   "source": [
    "browser.close()"
   ]
  },
  {
   "cell_type": "code",
   "execution_count": null,
   "metadata": {},
   "outputs": [],
   "source": [
    "browser.switch_to_window(browser.window_handles[0])"
   ]
  },
  {
   "cell_type": "code",
   "execution_count": null,
   "metadata": {},
   "outputs": [],
   "source": [
    "browser.current_url"
   ]
  },
  {
   "cell_type": "code",
   "execution_count": null,
   "metadata": {},
   "outputs": [],
   "source": []
  }
 ],
 "metadata": {
  "kernelspec": {
   "display_name": "Python 3",
   "language": "python",
   "name": "python3"
  },
  "language_info": {
   "codemirror_mode": {
    "name": "ipython",
    "version": 3
   },
   "file_extension": ".py",
   "mimetype": "text/x-python",
   "name": "python",
   "nbconvert_exporter": "python",
   "pygments_lexer": "ipython3",
   "version": "3.6.9"
  }
 },
 "nbformat": 4,
 "nbformat_minor": 4
}
